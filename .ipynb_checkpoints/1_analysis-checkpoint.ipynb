{
 "cells": [
  {
   "cell_type": "code",
   "execution_count": 1,
   "id": "8928a63d-99d6-4c9e-9783-c45ccb06d4d7",
   "metadata": {},
   "outputs": [],
   "source": [
    "import pandas as pd\n",
    "import geopandas as gpd\n",
    "from shapely.geometry import Point, LineString, Polygon\n",
    "import matplotlib.pyplot as plt"
   ]
  },
  {
   "cell_type": "code",
   "execution_count": 52,
   "id": "8cea91d6-0580-4978-9956-a49464e5f0ce",
   "metadata": {},
   "outputs": [],
   "source": [
    "bike_gdf = gpd.read_parquet('data/l_escooter_trips.parquet')"
   ]
  },
  {
   "cell_type": "code",
   "execution_count": 53,
   "id": "9cca318f-59a2-40eb-b480-5d573144723d",
   "metadata": {
    "scrolled": true
   },
   "outputs": [
    {
     "name": "stdout",
     "output_type": "stream",
     "text": [
      "<class 'geopandas.geodataframe.GeoDataFrame'>\n",
      "RangeIndex: 61624 entries, 0 to 61623\n",
      "Data columns (total 8 columns):\n",
      " #   Column           Non-Null Count  Dtype         \n",
      "---  ------           --------------  -----         \n",
      " 0   trip_id          61624 non-null  object        \n",
      " 1   end_time         61624 non-null  datetime64[ns]\n",
      " 2   trip_distance    61624 non-null  float64       \n",
      " 3   start_time       61624 non-null  datetime64[ns]\n",
      " 4   timestamps_list  61624 non-null  object        \n",
      " 5   trip_duration    61624 non-null  float64       \n",
      " 6   vehicle_id       61624 non-null  object        \n",
      " 7   geometry         61624 non-null  geometry      \n",
      "dtypes: datetime64[ns](2), float64(2), geometry(1), object(3)\n",
      "memory usage: 3.8+ MB\n"
     ]
    }
   ],
   "source": [
    "bike_gdf.info()"
   ]
  },
  {
   "cell_type": "code",
   "execution_count": 54,
   "id": "eb1766c1-a319-4a7f-afa4-1a1846cd2695",
   "metadata": {},
   "outputs": [
    {
     "data": {
      "text/html": [
       "<div>\n",
       "<style scoped>\n",
       "    .dataframe tbody tr th:only-of-type {\n",
       "        vertical-align: middle;\n",
       "    }\n",
       "\n",
       "    .dataframe tbody tr th {\n",
       "        vertical-align: top;\n",
       "    }\n",
       "\n",
       "    .dataframe thead th {\n",
       "        text-align: right;\n",
       "    }\n",
       "</style>\n",
       "<table border=\"1\" class=\"dataframe\">\n",
       "  <thead>\n",
       "    <tr style=\"text-align: right;\">\n",
       "      <th></th>\n",
       "      <th>trip_id</th>\n",
       "      <th>end_time</th>\n",
       "      <th>trip_distance</th>\n",
       "      <th>start_time</th>\n",
       "      <th>timestamps_list</th>\n",
       "      <th>trip_duration</th>\n",
       "      <th>vehicle_id</th>\n",
       "      <th>geometry</th>\n",
       "    </tr>\n",
       "  </thead>\n",
       "  <tbody>\n",
       "    <tr>\n",
       "      <th>0</th>\n",
       "      <td>439f9229-2784-4338-9773-d652c9e568cc</td>\n",
       "      <td>2023-07-31 23:04:03.510</td>\n",
       "      <td>1926.0</td>\n",
       "      <td>2023-07-31 22:57:07.199</td>\n",
       "      <td>[1690844227000, 1690844229000, 1690844238000, ...</td>\n",
       "      <td>416.0</td>\n",
       "      <td>403328</td>\n",
       "      <td>LINESTRING (8.26256 50.00089, 8.26256 50.00089...</td>\n",
       "    </tr>\n",
       "    <tr>\n",
       "      <th>1</th>\n",
       "      <td>c55453e0-b755-4158-9d78-d333097ecb45</td>\n",
       "      <td>2023-07-31 23:11:14.877</td>\n",
       "      <td>2294.0</td>\n",
       "      <td>2023-07-31 23:02:56.447</td>\n",
       "      <td>[1690844576000, 1690844589000, 1690844597000, ...</td>\n",
       "      <td>498.0</td>\n",
       "      <td>420400</td>\n",
       "      <td>LINESTRING (8.22772 49.99644, 8.22736 49.9963,...</td>\n",
       "    </tr>\n",
       "    <tr>\n",
       "      <th>2</th>\n",
       "      <td>916c12fa-965e-4902-a92f-e4804944093b</td>\n",
       "      <td>2023-07-31 23:45:57.514</td>\n",
       "      <td>3689.0</td>\n",
       "      <td>2023-07-31 23:29:08.466</td>\n",
       "      <td>[1690846148000, 1690846160000, 1690846171000, ...</td>\n",
       "      <td>1009.0</td>\n",
       "      <td>419482</td>\n",
       "      <td>LINESTRING (8.26706 49.9842, 8.26706 49.9842, ...</td>\n",
       "    </tr>\n",
       "    <tr>\n",
       "      <th>3</th>\n",
       "      <td>62efe364-30f4-4f48-b80a-d6c193dcdf86</td>\n",
       "      <td>2023-07-31 23:15:54.405</td>\n",
       "      <td>2613.0</td>\n",
       "      <td>2023-07-31 23:06:23.757</td>\n",
       "      <td>[1690844783000, 1690844795000, 1690844806000, ...</td>\n",
       "      <td>571.0</td>\n",
       "      <td>415192</td>\n",
       "      <td>LINESTRING (8.25944 50.00556, 8.25982 50.0054,...</td>\n",
       "    </tr>\n",
       "    <tr>\n",
       "      <th>4</th>\n",
       "      <td>9140fcef-3652-4b25-80b9-2304c4a3b6da</td>\n",
       "      <td>2023-07-31 23:13:33.966</td>\n",
       "      <td>1538.0</td>\n",
       "      <td>2023-07-31 23:08:14.374</td>\n",
       "      <td>[1690844894000, 1690844896000, 1690844906000, ...</td>\n",
       "      <td>320.0</td>\n",
       "      <td>421106</td>\n",
       "      <td>LINESTRING (8.27926 49.99632, 8.27927 49.99632...</td>\n",
       "    </tr>\n",
       "  </tbody>\n",
       "</table>\n",
       "</div>"
      ],
      "text/plain": [
       "                                trip_id                end_time  \\\n",
       "0  439f9229-2784-4338-9773-d652c9e568cc 2023-07-31 23:04:03.510   \n",
       "1  c55453e0-b755-4158-9d78-d333097ecb45 2023-07-31 23:11:14.877   \n",
       "2  916c12fa-965e-4902-a92f-e4804944093b 2023-07-31 23:45:57.514   \n",
       "3  62efe364-30f4-4f48-b80a-d6c193dcdf86 2023-07-31 23:15:54.405   \n",
       "4  9140fcef-3652-4b25-80b9-2304c4a3b6da 2023-07-31 23:13:33.966   \n",
       "\n",
       "   trip_distance              start_time  \\\n",
       "0         1926.0 2023-07-31 22:57:07.199   \n",
       "1         2294.0 2023-07-31 23:02:56.447   \n",
       "2         3689.0 2023-07-31 23:29:08.466   \n",
       "3         2613.0 2023-07-31 23:06:23.757   \n",
       "4         1538.0 2023-07-31 23:08:14.374   \n",
       "\n",
       "                                     timestamps_list  trip_duration  \\\n",
       "0  [1690844227000, 1690844229000, 1690844238000, ...          416.0   \n",
       "1  [1690844576000, 1690844589000, 1690844597000, ...          498.0   \n",
       "2  [1690846148000, 1690846160000, 1690846171000, ...         1009.0   \n",
       "3  [1690844783000, 1690844795000, 1690844806000, ...          571.0   \n",
       "4  [1690844894000, 1690844896000, 1690844906000, ...          320.0   \n",
       "\n",
       "  vehicle_id                                           geometry  \n",
       "0     403328  LINESTRING (8.26256 50.00089, 8.26256 50.00089...  \n",
       "1     420400  LINESTRING (8.22772 49.99644, 8.22736 49.9963,...  \n",
       "2     419482  LINESTRING (8.26706 49.9842, 8.26706 49.9842, ...  \n",
       "3     415192  LINESTRING (8.25944 50.00556, 8.25982 50.0054,...  \n",
       "4     421106  LINESTRING (8.27926 49.99632, 8.27927 49.99632...  "
      ]
     },
     "execution_count": 54,
     "metadata": {},
     "output_type": "execute_result"
    }
   ],
   "source": [
    "bike_gdf.head()"
   ]
  },
  {
   "cell_type": "markdown",
   "id": "ed37f7dc-3263-4826-bb00-f7ec9461fd66",
   "metadata": {},
   "source": [
    "### When?"
   ]
  },
  {
   "cell_type": "markdown",
   "id": "03f98cad-e449-4934-b9c5-91a4b9c29893",
   "metadata": {},
   "source": [
    "Comparing months doesn't make sense, because there is only one full month"
   ]
  },
  {
   "cell_type": "code",
   "execution_count": 55,
   "id": "662c8f14-fda8-4d40-959f-ee9029a0e801",
   "metadata": {},
   "outputs": [
    {
     "name": "stdout",
     "output_type": "stream",
     "text": [
      "Number of trips with different start/end dates: 0\n",
      "Number of trips with different start/end hours: 68272 out of 492992 trips in total\n"
     ]
    }
   ],
   "source": [
    "# Check how many trips have different start/end dates and start/end hours\n",
    "date_duplicate = bike_gdf.loc[bike_gdf['start_time'].dt.date != bike_gdf['start_time'].dt.date]\n",
    "hour_duplicate = bike_gdf.loc[bike_gdf['start_time'].dt.hour != bike_gdf['end_time'].dt.hour]\n",
    "\n",
    "print(f'Number of trips with different start/end dates: {date_duplicate.size}')\n",
    "print(f'Number of trips with different start/end hours: {hour_duplicate.size}' + f' out of {bike_gdf.size} trips in total')"
   ]
  },
  {
   "cell_type": "code",
   "execution_count": 56,
   "id": "f7e23a8a-7932-479a-aa9d-da42dd2c891c",
   "metadata": {},
   "outputs": [],
   "source": [
    "# Calculate the main temporal characteristics\n",
    "bike_gdf_temp = bike_gdf.copy()\n",
    "bike_gdf_temp['date'] = bike_gdf['start_time'].dt.date\n",
    "bike_gdf_temp['day_of_week'] = bike_gdf['start_time'].dt.day_of_week\n",
    "bike_gdf_temp['weekday'] = bike_gdf_temp['day_of_week'].apply(lambda x: 1 if x<5 else 0)\n",
    "bike_gdf_temp['start_hour'] = bike_gdf['start_time'].dt.hour\n",
    "bike_gdf_temp['end_hour'] = bike_gdf['end_time'].dt.hour\n",
    "bike_gdf_temp['start_minute'] = bike_gdf['start_time'].dt.minute\n",
    "bike_gdf_temp['end_minute'] = bike_gdf['end_time'].dt.minute"
   ]
  },
  {
   "cell_type": "code",
   "execution_count": 72,
   "id": "0a70b1d1-ed2c-4b52-a7bf-ad5cecb82b82",
   "metadata": {},
   "outputs": [
    {
     "data": {
      "image/png": "[encoded data removed]",
      "text/plain": [
       "<Figure size 1500x500 with 1 Axes>"
      ]
     },
     "metadata": {},
     "output_type": "display_data"
    }
   ],
   "source": [
    "trips_per_day = bike_gdf_temp.groupby('date')['trip_id'].nunique().rename_axis('date').rename('trips_per_day').to_frame().reset_index()\n",
    "trips_per_day['date'] = pd.to_datetime(trips_per_day['date'])\n",
    "\n",
    "fig, ax = plt.subplots(figsize=(15,5))\n",
    "ax.bar(trips_per_day.date, trips_per_day.trips_per_day)\n",
    "ax.set_title('Number of trips per day between July 31 and September 29')\n",
    "ax.set_xlabel('Date')\n",
    "ax.set_ylabel('Trips per day')\n",
    "plt.show()"
   ]
  },
  {
   "cell_type": "markdown",
   "id": "ff1516a8-9761-423e-a2d6-a170c2046c4b",
   "metadata": {},
   "source": [
    "Trend?\n",
    "Drop July value"
   ]
  }
 ],
 "metadata": {
  "kernelspec": {
   "display_name": "Python (thesisenv)",
   "language": "python",
   "name": "thesis"
  },
  "language_info": {
   "codemirror_mode": {
    "name": "ipython",
    "version": 3
   },
   "file_extension": ".py",
   "mimetype": "text/x-python",
   "name": "python",
   "nbconvert_exporter": "python",
   "pygments_lexer": "ipython3",
   "version": "3.11.13"
  }
 },
 "nbformat": 4,
 "nbformat_minor": 5
}
